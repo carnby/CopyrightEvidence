{
 "cells": [
  {
   "cell_type": "markdown",
   "metadata": {},
   "source": [
    "# Data Processing\n",
    "\n",
    "This notebooks takes a database in SQLite format, containing the dataset dump from the Copyright Evidence Wiki.\n",
    "\n",
    "Note that we had a MySQL dump. We used this script to convert it into a SQLite database.\n",
    "\n",
    "https://www.stat.berkeley.edu/~statcur/Workshop2/Assignments/Baseball/mysql2sqlite.sh\n",
    "\n",
    "### SQLite => Pandas DataFrames"
   ]
  },
  {
   "cell_type": "code",
   "execution_count": 1,
   "metadata": {
    "collapsed": false
   },
   "outputs": [],
   "source": [
    "import sqlite3 as lite\n",
    "import pandas as pd"
   ]
  },
  {
   "cell_type": "code",
   "execution_count": 2,
   "metadata": {
    "collapsed": true
   },
   "outputs": [],
   "source": [
    "con = lite.connect('euhack.db')"
   ]
  },
  {
   "cell_type": "code",
   "execution_count": 3,
   "metadata": {
    "collapsed": false
   },
   "outputs": [],
   "source": [
    "def get_table(table):\n",
    "    return pd.read_sql_query('select * from {0}'.format(table), con)"
   ]
  },
  {
   "cell_type": "markdown",
   "metadata": {},
   "source": [
    "This is the list of tables. We will create a DataFrame for each of them. When needed, we will join DataFrames."
   ]
  },
  {
   "cell_type": "code",
   "execution_count": 4,
   "metadata": {
    "collapsed": false
   },
   "outputs": [],
   "source": [
    "tables = {\n",
    "          'authors': 'database_author',\n",
    "          'countries': 'database_country',\n",
    "          'datasets': 'database_dataset',\n",
    "          'disciplines': 'database_discipline',\n",
    "          'domains': 'database_domain',\n",
    "          'policies': 'database_evidencebasedpolicy',\n",
    "          'issues': 'database_fundamentalissue',\n",
    "          'requests': 'database_googledmcarequest',\n",
    "          'request_domains': 'database_googledmcarequestdomain',\n",
    "          'industries': 'database_industry',\n",
    "          'methods': 'database_method',\n",
    "          'studies': 'database_study',\n",
    "          'analysis_methods': 'database_study_analysis_methods',\n",
    "          'study_authors': 'database_study_authors',\n",
    "          'study_collection_methods': 'database_study_collection_methods',\n",
    "          'study_disciplines': 'database_study_disciplines',\n",
    "          'study_policies': 'database_study_evidence_based_policies',\n",
    "          'study_issues': 'database_study_fundamental_issues',\n",
    "          'study_industries': 'database_study_industries',\n",
    "          'study_methods': 'database_study_methods',\n",
    "          'study_countries': 'database_study_countries',\n",
    "          'study_references': 'database_study_references'\n",
    "          }"
   ]
  },
  {
   "cell_type": "code",
   "execution_count": 5,
   "metadata": {
    "collapsed": false
   },
   "outputs": [],
   "source": [
    "df = {k: get_table(v) for k, v in tables.items()}"
   ]
  },
  {
   "cell_type": "code",
   "execution_count": 6,
   "metadata": {
    "collapsed": false
   },
   "outputs": [],
   "source": [
    "studies = (df['studies'].rename(columns={'code': 'id', 'label': 'authors', 'title': 'label'})\n",
    "           .set_index('id')\n",
    "           .assign(type='Study'))"
   ]
  },
  {
   "cell_type": "markdown",
   "metadata": {},
   "source": [
    "Many tables include the _study id_ and a different _id_. For instance, the countries table: "
   ]
  },
  {
   "cell_type": "code",
   "execution_count": 7,
   "metadata": {
    "collapsed": false
   },
   "outputs": [
    {
     "data": {
      "text/html": [
       "<div>\n",
       "<table border=\"1\" class=\"dataframe\">\n",
       "  <thead>\n",
       "    <tr style=\"text-align: right;\">\n",
       "      <th></th>\n",
       "      <th>id</th>\n",
       "      <th>study_id</th>\n",
       "      <th>country_id</th>\n",
       "    </tr>\n",
       "  </thead>\n",
       "  <tbody>\n",
       "    <tr>\n",
       "      <th>0</th>\n",
       "      <td>20280</td>\n",
       "      <td>Buxmann,_Pohl,_Johnscher_and_Strube_(2005)</td>\n",
       "      <td>Germany</td>\n",
       "    </tr>\n",
       "    <tr>\n",
       "      <th>1</th>\n",
       "      <td>20281</td>\n",
       "      <td>Buss_and_Peukert_(2015)_2</td>\n",
       "      <td>Germany</td>\n",
       "    </tr>\n",
       "    <tr>\n",
       "      <th>2</th>\n",
       "      <td>20289</td>\n",
       "      <td>Deazley_(2008)</td>\n",
       "      <td>United Kingdom</td>\n",
       "    </tr>\n",
       "    <tr>\n",
       "      <th>3</th>\n",
       "      <td>20291</td>\n",
       "      <td>De_Wolf_&amp;_Partners_(2014)</td>\n",
       "      <td>Japan</td>\n",
       "    </tr>\n",
       "    <tr>\n",
       "      <th>4</th>\n",
       "      <td>20292</td>\n",
       "      <td>De_Wolf_&amp;_Partners_(2014)</td>\n",
       "      <td>United Kingdom</td>\n",
       "    </tr>\n",
       "  </tbody>\n",
       "</table>\n",
       "</div>"
      ],
      "text/plain": [
       "      id                                    study_id      country_id\n",
       "0  20280  Buxmann,_Pohl,_Johnscher_and_Strube_(2005)         Germany\n",
       "1  20281                   Buss_and_Peukert_(2015)_2         Germany\n",
       "2  20289                              Deazley_(2008)  United Kingdom\n",
       "3  20291                   De_Wolf_&_Partners_(2014)           Japan\n",
       "4  20292                   De_Wolf_&_Partners_(2014)  United Kingdom"
      ]
     },
     "execution_count": 7,
     "metadata": {},
     "output_type": "execute_result"
    }
   ],
   "source": [
    "countries = df['study_countries']\n",
    "countries.head()"
   ]
  },
  {
   "cell_type": "markdown",
   "metadata": {},
   "source": [
    "We notice that some studies are associated to more than one country. We want to know all countries associated to a dataset. We can generalize this behavior through the following function:"
   ]
  },
  {
   "cell_type": "code",
   "execution_count": 8,
   "metadata": {
    "collapsed": true
   },
   "outputs": [],
   "source": [
    "def group_by_studies(df, column, name, src_column='study_id'):\n",
    "    return (pd.DataFrame(df.groupby(src_column)\n",
    "                                 .apply(lambda x: list(x[column].values)))\n",
    "                                 .rename(columns={0: name}))"
   ]
  },
  {
   "cell_type": "code",
   "execution_count": 9,
   "metadata": {
    "collapsed": false
   },
   "outputs": [
    {
     "data": {
      "text/html": [
       "<div>\n",
       "<table border=\"1\" class=\"dataframe\">\n",
       "  <thead>\n",
       "    <tr style=\"text-align: right;\">\n",
       "      <th></th>\n",
       "      <th>country_id</th>\n",
       "    </tr>\n",
       "    <tr>\n",
       "      <th>study_id</th>\n",
       "      <th></th>\n",
       "    </tr>\n",
       "  </thead>\n",
       "  <tbody>\n",
       "    <tr>\n",
       "      <th>Bhattacharjee,_Gopal_and_Sanders_(2003)</th>\n",
       "      <td>[United States of America]</td>\n",
       "    </tr>\n",
       "    <tr>\n",
       "      <th>Morris_and_Higgins_(2009)</th>\n",
       "      <td>[United States of America]</td>\n",
       "    </tr>\n",
       "    <tr>\n",
       "      <th>Kinnally,_Lacayo,_Mcclung_and_Sapolsky_(2008)</th>\n",
       "      <td>[United States of America]</td>\n",
       "    </tr>\n",
       "  </tbody>\n",
       "</table>\n",
       "</div>"
      ],
      "text/plain": [
       "                                                               country_id\n",
       "study_id                                                                 \n",
       "Bhattacharjee,_Gopal_and_Sanders_(2003)        [United States of America]\n",
       "Morris_and_Higgins_(2009)                      [United States of America]\n",
       "Kinnally,_Lacayo,_Mcclung_and_Sapolsky_(2008)  [United States of America]"
      ]
     },
     "execution_count": 9,
     "metadata": {},
     "output_type": "execute_result"
    }
   ],
   "source": [
    "group_by_studies(countries, 'country_id', 'country_id').sample(3)"
   ]
  },
  {
   "cell_type": "markdown",
   "metadata": {},
   "source": [
    "Why we do this in this way? Because in Exhibit we need an array of values for some facets. "
   ]
  },
  {
   "cell_type": "code",
   "execution_count": 10,
   "metadata": {
    "collapsed": false
   },
   "outputs": [],
   "source": [
    "studies = (studies\n",
    "            .join(group_by_studies(df['study_industries'], 'industry_id', 'industries'))\n",
    "            .join(group_by_studies(df['study_collection_methods'], 'method_id', 'collection_methods'))\n",
    "            .join(group_by_studies(df['analysis_methods'], 'method_id', 'analysis_methods'))\n",
    "            .join(group_by_studies(df['study_countries'], 'country_id', 'country')))"
   ]
  },
  {
   "cell_type": "markdown",
   "metadata": {},
   "source": [
    "We also need other values. We compute them below."
   ]
  },
  {
   "cell_type": "code",
   "execution_count": 11,
   "metadata": {
    "collapsed": false
   },
   "outputs": [
    {
     "data": {
      "text/html": [
       "<div>\n",
       "<table border=\"1\" class=\"dataframe\">\n",
       "  <thead>\n",
       "    <tr style=\"text-align: right;\">\n",
       "      <th></th>\n",
       "      <th>citation_count</th>\n",
       "    </tr>\n",
       "    <tr>\n",
       "      <th>to_study_id</th>\n",
       "      <th></th>\n",
       "    </tr>\n",
       "  </thead>\n",
       "  <tbody>\n",
       "    <tr>\n",
       "      <th>Michel_(2005)</th>\n",
       "      <td>1</td>\n",
       "    </tr>\n",
       "    <tr>\n",
       "      <th>Heald_(2014)_2</th>\n",
       "      <td>1</td>\n",
       "    </tr>\n",
       "    <tr>\n",
       "      <th>Liebowitz_and_Margolis_(2005)</th>\n",
       "      <td>5</td>\n",
       "    </tr>\n",
       "  </tbody>\n",
       "</table>\n",
       "</div>"
      ],
      "text/plain": [
       "                               citation_count\n",
       "to_study_id                                  \n",
       "Michel_(2005)                               1\n",
       "Heald_(2014)_2                              1\n",
       "Liebowitz_and_Margolis_(2005)               5"
      ]
     },
     "execution_count": 11,
     "metadata": {},
     "output_type": "execute_result"
    }
   ],
   "source": [
    "citation_count = (df['study_references'].groupby('to_study_id')\n",
    "                  .aggregate({'from_study_id': 'count'})\n",
    "                  .rename(index={'to_study_id': 'study_id'}, columns={'from_study_id': 'citation_count'}))\n",
    "citation_count.sample(3)"
   ]
  },
  {
   "cell_type": "code",
   "execution_count": 12,
   "metadata": {
    "collapsed": false
   },
   "outputs": [
    {
     "data": {
      "text/html": [
       "<div>\n",
       "<table border=\"1\" class=\"dataframe\">\n",
       "  <thead>\n",
       "    <tr style=\"text-align: right;\">\n",
       "      <th></th>\n",
       "      <th>id</th>\n",
       "      <th>study_id</th>\n",
       "      <th>fundamentalissue_id</th>\n",
       "      <th>label</th>\n",
       "      <th>description</th>\n",
       "    </tr>\n",
       "  </thead>\n",
       "  <tbody>\n",
       "    <tr>\n",
       "      <th>706</th>\n",
       "      <td>14197</td>\n",
       "      <td>Sag_(2013)</td>\n",
       "      <td>4</td>\n",
       "      <td>Effects of protection on industry structure</td>\n",
       "      <td>oligopolies; competition; economics of superst...</td>\n",
       "    </tr>\n",
       "    <tr>\n",
       "      <th>239</th>\n",
       "      <td>13730</td>\n",
       "      <td>Envisional_(2011)</td>\n",
       "      <td>4</td>\n",
       "      <td>Effects of protection on industry structure</td>\n",
       "      <td>oligopolies; competition; economics of superst...</td>\n",
       "    </tr>\n",
       "    <tr>\n",
       "      <th>466</th>\n",
       "      <td>13957</td>\n",
       "      <td>Lunney_(2012)</td>\n",
       "      <td>1</td>\n",
       "      <td>Relationship between protection</td>\n",
       "      <td>subject matter/term/scope) and supply/economic...</td>\n",
       "    </tr>\n",
       "  </tbody>\n",
       "</table>\n",
       "</div>"
      ],
      "text/plain": [
       "        id           study_id fundamentalissue_id  \\\n",
       "706  14197         Sag_(2013)                   4   \n",
       "239  13730  Envisional_(2011)                   4   \n",
       "466  13957      Lunney_(2012)                   1   \n",
       "\n",
       "                                           label  \\\n",
       "706  Effects of protection on industry structure   \n",
       "239  Effects of protection on industry structure   \n",
       "466              Relationship between protection   \n",
       "\n",
       "                                           description  \n",
       "706  oligopolies; competition; economics of superst...  \n",
       "239  oligopolies; competition; economics of superst...  \n",
       "466  subject matter/term/scope) and supply/economic...  "
      ]
     },
     "execution_count": 12,
     "metadata": {},
     "output_type": "execute_result"
    }
   ],
   "source": [
    "issues = df['study_issues'].join(df['issues'].set_index('code'), on='fundamentalissue_id')\n",
    "issues.sample(3)"
   ]
  },
  {
   "cell_type": "code",
   "execution_count": 13,
   "metadata": {
    "collapsed": false
   },
   "outputs": [
    {
     "data": {
      "text/html": [
       "<div>\n",
       "<table border=\"1\" class=\"dataframe\">\n",
       "  <thead>\n",
       "    <tr style=\"text-align: right;\">\n",
       "      <th></th>\n",
       "      <th>id</th>\n",
       "      <th>study_id</th>\n",
       "      <th>evidencebasedpolicy_id</th>\n",
       "      <th>label</th>\n",
       "      <th>description</th>\n",
       "    </tr>\n",
       "  </thead>\n",
       "  <tbody>\n",
       "    <tr>\n",
       "      <th>216</th>\n",
       "      <td>12387</td>\n",
       "      <td>Envisional_(2011)</td>\n",
       "      <td>F</td>\n",
       "      <td>Enforcement</td>\n",
       "      <td>quantifying infringement; criminal sanctions; ...</td>\n",
       "    </tr>\n",
       "    <tr>\n",
       "      <th>0</th>\n",
       "      <td>12171</td>\n",
       "      <td>Altschuller_and_Benbunan-Fich_(2009)</td>\n",
       "      <td>F</td>\n",
       "      <td>Enforcement</td>\n",
       "      <td>quantifying infringement; criminal sanctions; ...</td>\n",
       "    </tr>\n",
       "    <tr>\n",
       "      <th>51</th>\n",
       "      <td>12222</td>\n",
       "      <td>Condry_(2004)</td>\n",
       "      <td>F</td>\n",
       "      <td>Enforcement</td>\n",
       "      <td>quantifying infringement; criminal sanctions; ...</td>\n",
       "    </tr>\n",
       "  </tbody>\n",
       "</table>\n",
       "</div>"
      ],
      "text/plain": [
       "        id                              study_id evidencebasedpolicy_id  \\\n",
       "216  12387                     Envisional_(2011)                      F   \n",
       "0    12171  Altschuller_and_Benbunan-Fich_(2009)                      F   \n",
       "51   12222                         Condry_(2004)                      F   \n",
       "\n",
       "           label                                        description  \n",
       "216  Enforcement  quantifying infringement; criminal sanctions; ...  \n",
       "0    Enforcement  quantifying infringement; criminal sanctions; ...  \n",
       "51   Enforcement  quantifying infringement; criminal sanctions; ...  "
      ]
     },
     "execution_count": 13,
     "metadata": {},
     "output_type": "execute_result"
    }
   ],
   "source": [
    "policies = df['study_policies'].join(df['policies'].set_index('code'), on='evidencebasedpolicy_id')\n",
    "policies.sample(3)"
   ]
  },
  {
   "cell_type": "code",
   "execution_count": 14,
   "metadata": {
    "collapsed": false
   },
   "outputs": [
    {
     "data": {
      "text/html": [
       "<div>\n",
       "<table border=\"1\" class=\"dataframe\">\n",
       "  <thead>\n",
       "    <tr style=\"text-align: right;\">\n",
       "      <th></th>\n",
       "      <th>id</th>\n",
       "      <th>study_id</th>\n",
       "      <th>discipline_id</th>\n",
       "      <th>label</th>\n",
       "    </tr>\n",
       "  </thead>\n",
       "  <tbody>\n",
       "    <tr>\n",
       "      <th>241</th>\n",
       "      <td>30368</td>\n",
       "      <td>Hanke,_Girard_and_Mattes_(2015)</td>\n",
       "      <td>O34</td>\n",
       "      <td>Intellectual Property and Intellectual Capital</td>\n",
       "    </tr>\n",
       "    <tr>\n",
       "      <th>951</th>\n",
       "      <td>31078</td>\n",
       "      <td>Larsson_et_al._(2014)</td>\n",
       "      <td>K11</td>\n",
       "      <td>Property Law</td>\n",
       "    </tr>\n",
       "    <tr>\n",
       "      <th>225</th>\n",
       "      <td>30352</td>\n",
       "      <td>Handke_(2011)_2</td>\n",
       "      <td>L82</td>\n",
       "      <td>Entertainment • Media</td>\n",
       "    </tr>\n",
       "  </tbody>\n",
       "</table>\n",
       "</div>"
      ],
      "text/plain": [
       "        id                         study_id discipline_id  \\\n",
       "241  30368  Hanke,_Girard_and_Mattes_(2015)           O34   \n",
       "951  31078            Larsson_et_al._(2014)           K11   \n",
       "225  30352                  Handke_(2011)_2           L82   \n",
       "\n",
       "                                              label  \n",
       "241  Intellectual Property and Intellectual Capital  \n",
       "951                                    Property Law  \n",
       "225                           Entertainment • Media  "
      ]
     },
     "execution_count": 14,
     "metadata": {},
     "output_type": "execute_result"
    }
   ],
   "source": [
    "disciplines = df['study_disciplines'].join(df['disciplines'].set_index('code'), on='discipline_id')\n",
    "disciplines.sample(3)"
   ]
  },
  {
   "cell_type": "code",
   "execution_count": 15,
   "metadata": {
    "collapsed": false
   },
   "outputs": [],
   "source": [
    "studies = (studies.join(citation_count)\n",
    "            .join(group_by_studies(issues, 'label', 'issues'))\n",
    "            .join(group_by_studies(policies, 'label', 'policies'))\n",
    "            .join(group_by_studies(disciplines, 'label', 'disciplines')))"
   ]
  },
  {
   "cell_type": "markdown",
   "metadata": {},
   "source": [
    "The result:"
   ]
  },
  {
   "cell_type": "code",
   "execution_count": 16,
   "metadata": {
    "collapsed": false
   },
   "outputs": [
    {
     "data": {
      "text/html": [
       "<div>\n",
       "<table border=\"1\" class=\"dataframe\">\n",
       "  <thead>\n",
       "    <tr style=\"text-align: right;\">\n",
       "      <th></th>\n",
       "      <th>authors</th>\n",
       "      <th>url</th>\n",
       "      <th>year</th>\n",
       "      <th>label</th>\n",
       "      <th>abstract</th>\n",
       "      <th>plain_text_proposition</th>\n",
       "      <th>intervention_response</th>\n",
       "      <th>link</th>\n",
       "      <th>authentic_link</th>\n",
       "      <th>comparative</th>\n",
       "      <th>...</th>\n",
       "      <th>data_description</th>\n",
       "      <th>type</th>\n",
       "      <th>industries</th>\n",
       "      <th>collection_methods</th>\n",
       "      <th>analysis_methods</th>\n",
       "      <th>country</th>\n",
       "      <th>citation_count</th>\n",
       "      <th>issues</th>\n",
       "      <th>policies</th>\n",
       "      <th>disciplines</th>\n",
       "    </tr>\n",
       "    <tr>\n",
       "      <th>id</th>\n",
       "      <th></th>\n",
       "      <th></th>\n",
       "      <th></th>\n",
       "      <th></th>\n",
       "      <th></th>\n",
       "      <th></th>\n",
       "      <th></th>\n",
       "      <th></th>\n",
       "      <th></th>\n",
       "      <th></th>\n",
       "      <th></th>\n",
       "      <th></th>\n",
       "      <th></th>\n",
       "      <th></th>\n",
       "      <th></th>\n",
       "      <th></th>\n",
       "      <th></th>\n",
       "      <th></th>\n",
       "      <th></th>\n",
       "      <th></th>\n",
       "      <th></th>\n",
       "    </tr>\n",
       "  </thead>\n",
       "  <tbody>\n",
       "    <tr>\n",
       "      <th>Buccafusco_(2012)</th>\n",
       "      <td>Buccafusco (2012)</td>\n",
       "      <td>http://www.copyrightevidence.org/evidence-wiki...</td>\n",
       "      <td>2012.0</td>\n",
       "      <td>Making Sense of Intellectual Property Law</td>\n",
       "      <td>Despite considerable research suggesting that ...</td>\n",
       "      <td>* There was one experiment with three differen...</td>\n",
       "      <td>Makes a case for attribution rights not being ...</td>\n",
       "      <td>http://papers.ssrn.com/sol3/papers.cfm?abstrac...</td>\n",
       "      <td>http://scholarship.kentlaw.iit.edu/fac_schol/733/</td>\n",
       "      <td>0</td>\n",
       "      <td>...</td>\n",
       "      <td>There were three different conditions run with...</td>\n",
       "      <td>Study</td>\n",
       "      <td>[Creative, arts and entertainment]</td>\n",
       "      <td>[Quantitative Collection Methods, Survey Resea...</td>\n",
       "      <td>[Quantitative Analysis Methods, Regression ana...</td>\n",
       "      <td>[United States of America]</td>\n",
       "      <td>NaN</td>\n",
       "      <td>[Relationship between protection, Relationship...</td>\n",
       "      <td>[Fair remuneration]</td>\n",
       "      <td>[General Economics, Role of Economics • Role o...</td>\n",
       "    </tr>\n",
       "    <tr>\n",
       "      <th>Liao,_Lin_and_Liu_(2010)</th>\n",
       "      <td>Liao, Lin and Liu (2010)</td>\n",
       "      <td>http://www.copyrightevidence.org/evidence-wiki...</td>\n",
       "      <td>2010.0</td>\n",
       "      <td>Predicting the use of pirated software: A cont...</td>\n",
       "      <td>As software piracy continues to be a threat to...</td>\n",
       "      <td>* Attitude and perceived behavioral control ar...</td>\n",
       "      <td>Despite the fact that pirated software on pers...</td>\n",
       "      <td>http://www.researchgate.net/publication/225122...</td>\n",
       "      <td>http://link.springer.com/article/10.1007%2Fs10...</td>\n",
       "      <td>0</td>\n",
       "      <td>...</td>\n",
       "      <td>A Web-based survey was conducted via an electr...</td>\n",
       "      <td>Study</td>\n",
       "      <td>[Software publishing (including video games)]</td>\n",
       "      <td>[Survey Research (qualitative; e.g. consumer p...</td>\n",
       "      <td>[Descriptive statistics (counting; means repor...</td>\n",
       "      <td>[Taiwan]</td>\n",
       "      <td>NaN</td>\n",
       "      <td>[Understanding consumption/use, Effects of pro...</td>\n",
       "      <td>[Fair remuneration, Enforcement]</td>\n",
       "      <td>[Information and Internet Services • Computer ...</td>\n",
       "    </tr>\n",
       "    <tr>\n",
       "      <th>Ghose,_Smith_and_Telang_(2006)</th>\n",
       "      <td>Ghose, Smith and Telang (2006)</td>\n",
       "      <td>http://www.copyrightevidence.org/evidence-wiki...</td>\n",
       "      <td>2006.0</td>\n",
       "      <td>Internet Exchanges for Used Books: An Empirica...</td>\n",
       "      <td>Information technology-enabled exchanges have ...</td>\n",
       "      <td>In this research, the authors analyze the impa...</td>\n",
       "      <td>The implication of this finding for publishers...</td>\n",
       "      <td>http://papers.ssrn.com/sol3/Papers.cfm?abstrac...</td>\n",
       "      <td>http://papers.ssrn.com/sol3/Papers.cfm?abstrac...</td>\n",
       "      <td>0</td>\n",
       "      <td>...</td>\n",
       "      <td>The study uses a unique dataset collected from...</td>\n",
       "      <td>Study</td>\n",
       "      <td>[Publishing of books, periodicals and other pu...</td>\n",
       "      <td>[Quantitative Collection Methods, Quantitative...</td>\n",
       "      <td>[Quantitative Analysis Methods, Descriptive st...</td>\n",
       "      <td>[United States of America]</td>\n",
       "      <td>NaN</td>\n",
       "      <td>[Relationship between protection, Harmony of i...</td>\n",
       "      <td>[Nature and Scope of exclusive rights, Licensi...</td>\n",
       "      <td>[Technological Change: Choices and Consequence...</td>\n",
       "    </tr>\n",
       "  </tbody>\n",
       "</table>\n",
       "<p>3 rows × 22 columns</p>\n",
       "</div>"
      ],
      "text/plain": [
       "                                                       authors  \\\n",
       "id                                                               \n",
       "Buccafusco_(2012)                            Buccafusco (2012)   \n",
       "Liao,_Lin_and_Liu_(2010)              Liao, Lin and Liu (2010)   \n",
       "Ghose,_Smith_and_Telang_(2006)  Ghose, Smith and Telang (2006)   \n",
       "\n",
       "                                                                              url  \\\n",
       "id                                                                                  \n",
       "Buccafusco_(2012)               http://www.copyrightevidence.org/evidence-wiki...   \n",
       "Liao,_Lin_and_Liu_(2010)        http://www.copyrightevidence.org/evidence-wiki...   \n",
       "Ghose,_Smith_and_Telang_(2006)  http://www.copyrightevidence.org/evidence-wiki...   \n",
       "\n",
       "                                  year  \\\n",
       "id                                       \n",
       "Buccafusco_(2012)               2012.0   \n",
       "Liao,_Lin_and_Liu_(2010)        2010.0   \n",
       "Ghose,_Smith_and_Telang_(2006)  2006.0   \n",
       "\n",
       "                                                                            label  \\\n",
       "id                                                                                  \n",
       "Buccafusco_(2012)                       Making Sense of Intellectual Property Law   \n",
       "Liao,_Lin_and_Liu_(2010)        Predicting the use of pirated software: A cont...   \n",
       "Ghose,_Smith_and_Telang_(2006)  Internet Exchanges for Used Books: An Empirica...   \n",
       "\n",
       "                                                                         abstract  \\\n",
       "id                                                                                  \n",
       "Buccafusco_(2012)               Despite considerable research suggesting that ...   \n",
       "Liao,_Lin_and_Liu_(2010)        As software piracy continues to be a threat to...   \n",
       "Ghose,_Smith_and_Telang_(2006)  Information technology-enabled exchanges have ...   \n",
       "\n",
       "                                                           plain_text_proposition  \\\n",
       "id                                                                                  \n",
       "Buccafusco_(2012)               * There was one experiment with three differen...   \n",
       "Liao,_Lin_and_Liu_(2010)        * Attitude and perceived behavioral control ar...   \n",
       "Ghose,_Smith_and_Telang_(2006)  In this research, the authors analyze the impa...   \n",
       "\n",
       "                                                            intervention_response  \\\n",
       "id                                                                                  \n",
       "Buccafusco_(2012)               Makes a case for attribution rights not being ...   \n",
       "Liao,_Lin_and_Liu_(2010)        Despite the fact that pirated software on pers...   \n",
       "Ghose,_Smith_and_Telang_(2006)  The implication of this finding for publishers...   \n",
       "\n",
       "                                                                             link  \\\n",
       "id                                                                                  \n",
       "Buccafusco_(2012)               http://papers.ssrn.com/sol3/papers.cfm?abstrac...   \n",
       "Liao,_Lin_and_Liu_(2010)        http://www.researchgate.net/publication/225122...   \n",
       "Ghose,_Smith_and_Telang_(2006)  http://papers.ssrn.com/sol3/Papers.cfm?abstrac...   \n",
       "\n",
       "                                                                   authentic_link  \\\n",
       "id                                                                                  \n",
       "Buccafusco_(2012)               http://scholarship.kentlaw.iit.edu/fac_schol/733/   \n",
       "Liao,_Lin_and_Liu_(2010)        http://link.springer.com/article/10.1007%2Fs10...   \n",
       "Ghose,_Smith_and_Telang_(2006)  http://papers.ssrn.com/sol3/Papers.cfm?abstrac...   \n",
       "\n",
       "                                comparative  \\\n",
       "id                                            \n",
       "Buccafusco_(2012)                         0   \n",
       "Liao,_Lin_and_Liu_(2010)                  0   \n",
       "Ghose,_Smith_and_Telang_(2006)            0   \n",
       "\n",
       "                                                      ...                          \\\n",
       "id                                                    ...                           \n",
       "Buccafusco_(2012)                                     ...                           \n",
       "Liao,_Lin_and_Liu_(2010)                              ...                           \n",
       "Ghose,_Smith_and_Telang_(2006)                        ...                           \n",
       "\n",
       "                                                                 data_description  \\\n",
       "id                                                                                  \n",
       "Buccafusco_(2012)               There were three different conditions run with...   \n",
       "Liao,_Lin_and_Liu_(2010)        A Web-based survey was conducted via an electr...   \n",
       "Ghose,_Smith_and_Telang_(2006)  The study uses a unique dataset collected from...   \n",
       "\n",
       "                                 type  \\\n",
       "id                                      \n",
       "Buccafusco_(2012)               Study   \n",
       "Liao,_Lin_and_Liu_(2010)        Study   \n",
       "Ghose,_Smith_and_Telang_(2006)  Study   \n",
       "\n",
       "                                                                       industries  \\\n",
       "id                                                                                  \n",
       "Buccafusco_(2012)                              [Creative, arts and entertainment]   \n",
       "Liao,_Lin_and_Liu_(2010)            [Software publishing (including video games)]   \n",
       "Ghose,_Smith_and_Telang_(2006)  [Publishing of books, periodicals and other pu...   \n",
       "\n",
       "                                                               collection_methods  \\\n",
       "id                                                                                  \n",
       "Buccafusco_(2012)               [Quantitative Collection Methods, Survey Resea...   \n",
       "Liao,_Lin_and_Liu_(2010)        [Survey Research (qualitative; e.g. consumer p...   \n",
       "Ghose,_Smith_and_Telang_(2006)  [Quantitative Collection Methods, Quantitative...   \n",
       "\n",
       "                                                                 analysis_methods  \\\n",
       "id                                                                                  \n",
       "Buccafusco_(2012)               [Quantitative Analysis Methods, Regression ana...   \n",
       "Liao,_Lin_and_Liu_(2010)        [Descriptive statistics (counting; means repor...   \n",
       "Ghose,_Smith_and_Telang_(2006)  [Quantitative Analysis Methods, Descriptive st...   \n",
       "\n",
       "                                                   country citation_count  \\\n",
       "id                                                                          \n",
       "Buccafusco_(2012)               [United States of America]            NaN   \n",
       "Liao,_Lin_and_Liu_(2010)                          [Taiwan]            NaN   \n",
       "Ghose,_Smith_and_Telang_(2006)  [United States of America]            NaN   \n",
       "\n",
       "                                                                           issues  \\\n",
       "id                                                                                  \n",
       "Buccafusco_(2012)               [Relationship between protection, Relationship...   \n",
       "Liao,_Lin_and_Liu_(2010)        [Understanding consumption/use, Effects of pro...   \n",
       "Ghose,_Smith_and_Telang_(2006)  [Relationship between protection, Harmony of i...   \n",
       "\n",
       "                                                                         policies  \\\n",
       "id                                                                                  \n",
       "Buccafusco_(2012)                                             [Fair remuneration]   \n",
       "Liao,_Lin_and_Liu_(2010)                         [Fair remuneration, Enforcement]   \n",
       "Ghose,_Smith_and_Telang_(2006)  [Nature and Scope of exclusive rights, Licensi...   \n",
       "\n",
       "                                                                      disciplines  \n",
       "id                                                                                 \n",
       "Buccafusco_(2012)               [General Economics, Role of Economics • Role o...  \n",
       "Liao,_Lin_and_Liu_(2010)        [Information and Internet Services • Computer ...  \n",
       "Ghose,_Smith_and_Telang_(2006)  [Technological Change: Choices and Consequence...  \n",
       "\n",
       "[3 rows x 22 columns]"
      ]
     },
     "execution_count": 16,
     "metadata": {},
     "output_type": "execute_result"
    }
   ],
   "source": [
    "studies.sample(3)"
   ]
  },
  {
   "cell_type": "markdown",
   "metadata": {},
   "source": [
    "### Text Parsing\n",
    "\n",
    "We will parse the abstracts of each study to define the most frequent words and bi-grams in each article."
   ]
  },
  {
   "cell_type": "code",
   "execution_count": 17,
   "metadata": {
    "collapsed": false
   },
   "outputs": [],
   "source": [
    "from nltk.corpus import stopwords\n",
    "en_stop = set(stopwords.words('english'))"
   ]
  },
  {
   "cell_type": "markdown",
   "metadata": {},
   "source": [
    "Here we train the bi-gram detection."
   ]
  },
  {
   "cell_type": "code",
   "execution_count": 18,
   "metadata": {
    "collapsed": false
   },
   "outputs": [],
   "source": [
    "from nltk.tokenize import sent_tokenize\n",
    "from gensim.utils import tokenize\n",
    "from gensim.models import Phrases\n",
    "\n",
    "def sent_iter():\n",
    "    for row in studies.itertuples():\n",
    "        try:\n",
    "            for sent in sent_tokenize(row.abstract):\n",
    "                tokens = list(tokenize(sent))\n",
    "                #print(tokens)\n",
    "                #yield wordpunct_tokenize(sent)\n",
    "                yield tokens\n",
    "        except Exception:\n",
    "            #print(row.abstract)\n",
    "            continue\n",
    "        #print(sentences)\n",
    "        #break\n",
    "\n",
    "bigrams = Phrases(sent_iter(), min_count=3)        "
   ]
  },
  {
   "cell_type": "markdown",
   "metadata": {},
   "source": [
    "We do not want to include less-frequent words, so we also count all words in the dataset."
   ]
  },
  {
   "cell_type": "code",
   "execution_count": 19,
   "metadata": {
    "collapsed": false
   },
   "outputs": [
    {
     "data": {
      "text/plain": [
       "[('copyright', 453),\n",
       " ('music', 420),\n",
       " ('piracy', 280),\n",
       " ('study', 245),\n",
       " ('digital', 207),\n",
       " ('file_sharing', 206),\n",
       " ('research', 199),\n",
       " ('also', 188),\n",
       " ('use', 187),\n",
       " ('intellectual_property', 173),\n",
       " ('new', 166),\n",
       " ('software', 163),\n",
       " ('legal', 161),\n",
       " ('data', 158),\n",
       " ('online', 154),\n",
       " ('consumers', 150),\n",
       " ('results', 147),\n",
       " ('rights', 144),\n",
       " ('economic', 134),\n",
       " ('market', 134),\n",
       " ('model', 133),\n",
       " ('works', 132),\n",
       " ('content', 132),\n",
       " ('law', 131),\n",
       " ('copyright_law', 126)]"
      ]
     },
     "execution_count": 19,
     "metadata": {},
     "output_type": "execute_result"
    }
   ],
   "source": [
    "from collections import Counter\n",
    "\n",
    "word_count = Counter()\n",
    "\n",
    "def is_stop(bigram):\n",
    "    parts = bigram.split('_')\n",
    "    if len(parts) > 1:\n",
    "        parts = [int(b in en_stop) for b in bigram.split('_')]\n",
    "        return sum(parts) == len(parts)\n",
    "    else:\n",
    "        return bigram in en_stop\n",
    "\n",
    "for row in studies.itertuples():\n",
    "    if not row.abstract:\n",
    "        continue\n",
    "        \n",
    "    for sent in sent_tokenize(row.abstract):\n",
    "        tokens = list(tokenize(sent))\n",
    "        if len(tokens) > 1 and tokens[0].lower() in en_stop:\n",
    "            tokens = tokens[1:]\n",
    "            \n",
    "        tokens = [b for b in bigrams[tokens] if not is_stop(b)]\n",
    "        word_count.update(tokens)\n",
    "        \n",
    "word_count.most_common(25)"
   ]
  },
  {
   "cell_type": "code",
   "execution_count": 20,
   "metadata": {
    "collapsed": false
   },
   "outputs": [],
   "source": [
    "def build_wordcount(row):\n",
    "    if not row.abstract:\n",
    "        return None\n",
    "    \n",
    "    token_count = Counter()\n",
    "    for sent in sent_tokenize(row.abstract):\n",
    "        tokens = list(tokenize(sent))\n",
    "        if len(tokens) > 1 and tokens[0].lower() in en_stop:\n",
    "            tokens = tokens[1:]\n",
    "            \n",
    "        # we consider only those with at least 5 appearances\n",
    "        tokens = [b for b in bigrams[tokens] if not is_stop(b) and word_count[b] >= 5]\n",
    "        token_count.update(tokens)\n",
    "    \n",
    "    return token_count\n",
    "    \n",
    "\n",
    "studies['wordcount'] = studies.apply(build_wordcount, axis=1)"
   ]
  },
  {
   "cell_type": "markdown",
   "metadata": {},
   "source": [
    "### Cleaning\n",
    "\n",
    "Some articles have faulty, incomplete, or wrong meta-data. Here we discard/fix them."
   ]
  },
  {
   "cell_type": "code",
   "execution_count": 21,
   "metadata": {
    "collapsed": true
   },
   "outputs": [],
   "source": [
    "studies.abstract.fillna(value='', inplace=True)"
   ]
  },
  {
   "cell_type": "code",
   "execution_count": 22,
   "metadata": {
    "collapsed": false
   },
   "outputs": [],
   "source": [
    "studies = studies[studies.year >= 1990].copy()"
   ]
  },
  {
   "cell_type": "code",
   "execution_count": 23,
   "metadata": {
    "collapsed": true
   },
   "outputs": [],
   "source": [
    "import json"
   ]
  },
  {
   "cell_type": "markdown",
   "metadata": {},
   "source": [
    "### Entities from DBPedia Spotlight\n",
    "\n",
    "We also ran DBPedia Spotlight to perform named entity resolution in each article. In this way we recognize several entities and concepts mentioned in the documents, even though they could be described in different ways (e.g., United Kingdom or UK). We saved these results in a JSON file before running this notebook."
   ]
  },
  {
   "cell_type": "code",
   "execution_count": 24,
   "metadata": {
    "collapsed": true
   },
   "outputs": [],
   "source": [
    "with open('/home/egraells/resources/CopyrightEvidence/processedData/EntitiesSpotlight.json') as f:\n",
    "    linked = json.load(f)"
   ]
  },
  {
   "cell_type": "code",
   "execution_count": 25,
   "metadata": {
    "collapsed": false
   },
   "outputs": [],
   "source": [
    "from cytoolz import keymap\n",
    "\n",
    "linked = keymap(lambda x: x.replace('http://www.copyrightevidence.org/evidence-wiki/index.php/', ''), linked)"
   ]
  },
  {
   "cell_type": "code",
   "execution_count": 26,
   "metadata": {
    "collapsed": false
   },
   "outputs": [],
   "source": [
    "studies['entities'] = studies.index.map(lambda x: linked[x] if x in linked else None)"
   ]
  },
  {
   "cell_type": "code",
   "execution_count": 27,
   "metadata": {
    "collapsed": true
   },
   "outputs": [],
   "source": [
    "studies['entity_count'] = studies.index.map(lambda x: dict(Counter(linked[x])) if x in linked else None)"
   ]
  },
  {
   "cell_type": "code",
   "execution_count": 28,
   "metadata": {
    "collapsed": false
   },
   "outputs": [
    {
     "data": {
      "text/html": [
       "<div>\n",
       "<table border=\"1\" class=\"dataframe\">\n",
       "  <thead>\n",
       "    <tr style=\"text-align: right;\">\n",
       "      <th></th>\n",
       "      <th>authors</th>\n",
       "      <th>url</th>\n",
       "      <th>year</th>\n",
       "      <th>label</th>\n",
       "      <th>abstract</th>\n",
       "      <th>plain_text_proposition</th>\n",
       "      <th>intervention_response</th>\n",
       "      <th>link</th>\n",
       "      <th>authentic_link</th>\n",
       "      <th>comparative</th>\n",
       "      <th>...</th>\n",
       "      <th>collection_methods</th>\n",
       "      <th>analysis_methods</th>\n",
       "      <th>country</th>\n",
       "      <th>citation_count</th>\n",
       "      <th>issues</th>\n",
       "      <th>policies</th>\n",
       "      <th>disciplines</th>\n",
       "      <th>wordcount</th>\n",
       "      <th>entities</th>\n",
       "      <th>entity_count</th>\n",
       "    </tr>\n",
       "    <tr>\n",
       "      <th>id</th>\n",
       "      <th></th>\n",
       "      <th></th>\n",
       "      <th></th>\n",
       "      <th></th>\n",
       "      <th></th>\n",
       "      <th></th>\n",
       "      <th></th>\n",
       "      <th></th>\n",
       "      <th></th>\n",
       "      <th></th>\n",
       "      <th></th>\n",
       "      <th></th>\n",
       "      <th></th>\n",
       "      <th></th>\n",
       "      <th></th>\n",
       "      <th></th>\n",
       "      <th></th>\n",
       "      <th></th>\n",
       "      <th></th>\n",
       "      <th></th>\n",
       "      <th></th>\n",
       "    </tr>\n",
       "  </thead>\n",
       "  <tbody>\n",
       "    <tr>\n",
       "      <th>Weatherall,_Webster_and_Bently_(2009)_3</th>\n",
       "      <td>Weatherall, Webster and Bently (2009)</td>\n",
       "      <td>http://www.copyrightevidence.org/evidence-wiki...</td>\n",
       "      <td>2009.0</td>\n",
       "      <td>IP Enforcement in the UK and Beyond: A Literat...</td>\n",
       "      <td>Recent reviews and policy discussions of the v...</td>\n",
       "      <td>Recent reviews and policy discussions of the v...</td>\n",
       "      <td>* The authors state that careful thought needs...</td>\n",
       "      <td>https://www.melbourneinstitute.com/downloads/i...</td>\n",
       "      <td>https://www.melbourneinstitute.com/downloads/i...</td>\n",
       "      <td>1</td>\n",
       "      <td>...</td>\n",
       "      <td>[Survey Research (qualitative; e.g. consumer p...</td>\n",
       "      <td>[Textual Content Analysis, Legal Analysis]</td>\n",
       "      <td>[United Kingdom, United States of America, Aus...</td>\n",
       "      <td>1.0</td>\n",
       "      <td>[Understanding consumption/use]</td>\n",
       "      <td>[Enforcement]</td>\n",
       "      <td>[General Economics, Law and Economics, Illegal...</td>\n",
       "      <td>{'copyright': 1, 'use': 2, 'various': 1, 'pate...</td>\n",
       "      <td>None</td>\n",
       "      <td>None</td>\n",
       "    </tr>\n",
       "    <tr>\n",
       "      <th>Huygen,_Helberger,_Poort,_Rutten_and_Van_Eijk_(2009)</th>\n",
       "      <td>Huygen, Helberger, Poort, Rutten and Van Eijk ...</td>\n",
       "      <td>http://www.copyrightevidence.org/evidence-wiki...</td>\n",
       "      <td>2009.0</td>\n",
       "      <td>Ups and downs; economic and cultural effects o...</td>\n",
       "      <td>The main aim of this study is to identify the ...</td>\n",
       "      <td>- The number of music downloaders in the Nethe...</td>\n",
       "      <td>It is up to government, as part of its cultura...</td>\n",
       "      <td>http://dare.uva.nl/document/2/79017</td>\n",
       "      <td>http://papers.ssrn.com/sol3/Papers.cfm?abstrac...</td>\n",
       "      <td>1</td>\n",
       "      <td>...</td>\n",
       "      <td>[Quantitative Collection Methods, Survey Resea...</td>\n",
       "      <td>[Quantitative Analysis Methods, Descriptive st...</td>\n",
       "      <td>[Netherlands]</td>\n",
       "      <td>1.0</td>\n",
       "      <td>[Effects of protection on industry structure, ...</td>\n",
       "      <td>[Licensing and Business models, Enforcement]</td>\n",
       "      <td>[Microeconomic Behavior: Underlying Principles...</td>\n",
       "      <td>{'this_study': 1, 'as_well': 1, 'effects': 1, ...</td>\n",
       "      <td>[Netherlands, File_sharing]</td>\n",
       "      <td>{'File_sharing': 1, 'Netherlands': 1}</td>\n",
       "    </tr>\n",
       "    <tr>\n",
       "      <th>Sung_(2007)</th>\n",
       "      <td>Sung (2007)</td>\n",
       "      <td>http://www.copyrightevidence.org/evidence-wiki...</td>\n",
       "      <td>2007.0</td>\n",
       "      <td>An economic analysis of new peer-to-peer trans...</td>\n",
       "      <td></td>\n",
       "      <td>None</td>\n",
       "      <td>None</td>\n",
       "      <td>None</td>\n",
       "      <td>None</td>\n",
       "      <td>0</td>\n",
       "      <td>...</td>\n",
       "      <td>NaN</td>\n",
       "      <td>NaN</td>\n",
       "      <td>NaN</td>\n",
       "      <td>NaN</td>\n",
       "      <td>NaN</td>\n",
       "      <td>NaN</td>\n",
       "      <td>NaN</td>\n",
       "      <td>None</td>\n",
       "      <td>[]</td>\n",
       "      <td>{}</td>\n",
       "    </tr>\n",
       "  </tbody>\n",
       "</table>\n",
       "<p>3 rows × 25 columns</p>\n",
       "</div>"
      ],
      "text/plain": [
       "                                                                                              authors  \\\n",
       "id                                                                                                      \n",
       "Weatherall,_Webster_and_Bently_(2009)_3                         Weatherall, Webster and Bently (2009)   \n",
       "Huygen,_Helberger,_Poort,_Rutten_and_Van_Eijk_(...  Huygen, Helberger, Poort, Rutten and Van Eijk ...   \n",
       "Sung_(2007)                                                                               Sung (2007)   \n",
       "\n",
       "                                                                                                  url  \\\n",
       "id                                                                                                      \n",
       "Weatherall,_Webster_and_Bently_(2009)_3             http://www.copyrightevidence.org/evidence-wiki...   \n",
       "Huygen,_Helberger,_Poort,_Rutten_and_Van_Eijk_(...  http://www.copyrightevidence.org/evidence-wiki...   \n",
       "Sung_(2007)                                         http://www.copyrightevidence.org/evidence-wiki...   \n",
       "\n",
       "                                                      year  \\\n",
       "id                                                           \n",
       "Weatherall,_Webster_and_Bently_(2009)_3             2009.0   \n",
       "Huygen,_Helberger,_Poort,_Rutten_and_Van_Eijk_(...  2009.0   \n",
       "Sung_(2007)                                         2007.0   \n",
       "\n",
       "                                                                                                label  \\\n",
       "id                                                                                                      \n",
       "Weatherall,_Webster_and_Bently_(2009)_3             IP Enforcement in the UK and Beyond: A Literat...   \n",
       "Huygen,_Helberger,_Poort,_Rutten_and_Van_Eijk_(...  Ups and downs; economic and cultural effects o...   \n",
       "Sung_(2007)                                         An economic analysis of new peer-to-peer trans...   \n",
       "\n",
       "                                                                                             abstract  \\\n",
       "id                                                                                                      \n",
       "Weatherall,_Webster_and_Bently_(2009)_3             Recent reviews and policy discussions of the v...   \n",
       "Huygen,_Helberger,_Poort,_Rutten_and_Van_Eijk_(...  The main aim of this study is to identify the ...   \n",
       "Sung_(2007)                                                                                             \n",
       "\n",
       "                                                                               plain_text_proposition  \\\n",
       "id                                                                                                      \n",
       "Weatherall,_Webster_and_Bently_(2009)_3             Recent reviews and policy discussions of the v...   \n",
       "Huygen,_Helberger,_Poort,_Rutten_and_Van_Eijk_(...  - The number of music downloaders in the Nethe...   \n",
       "Sung_(2007)                                                                                      None   \n",
       "\n",
       "                                                                                intervention_response  \\\n",
       "id                                                                                                      \n",
       "Weatherall,_Webster_and_Bently_(2009)_3             * The authors state that careful thought needs...   \n",
       "Huygen,_Helberger,_Poort,_Rutten_and_Van_Eijk_(...  It is up to government, as part of its cultura...   \n",
       "Sung_(2007)                                                                                      None   \n",
       "\n",
       "                                                                                                 link  \\\n",
       "id                                                                                                      \n",
       "Weatherall,_Webster_and_Bently_(2009)_3             https://www.melbourneinstitute.com/downloads/i...   \n",
       "Huygen,_Helberger,_Poort,_Rutten_and_Van_Eijk_(...                http://dare.uva.nl/document/2/79017   \n",
       "Sung_(2007)                                                                                      None   \n",
       "\n",
       "                                                                                       authentic_link  \\\n",
       "id                                                                                                      \n",
       "Weatherall,_Webster_and_Bently_(2009)_3             https://www.melbourneinstitute.com/downloads/i...   \n",
       "Huygen,_Helberger,_Poort,_Rutten_and_Van_Eijk_(...  http://papers.ssrn.com/sol3/Papers.cfm?abstrac...   \n",
       "Sung_(2007)                                                                                      None   \n",
       "\n",
       "                                                    comparative  \\\n",
       "id                                                                \n",
       "Weatherall,_Webster_and_Bently_(2009)_3                       1   \n",
       "Huygen,_Helberger,_Poort,_Rutten_and_Van_Eijk_(...            1   \n",
       "Sung_(2007)                                                   0   \n",
       "\n",
       "                                                                    ...                    \\\n",
       "id                                                                  ...                     \n",
       "Weatherall,_Webster_and_Bently_(2009)_3                             ...                     \n",
       "Huygen,_Helberger,_Poort,_Rutten_and_Van_Eijk_(...                  ...                     \n",
       "Sung_(2007)                                                         ...                     \n",
       "\n",
       "                                                                                   collection_methods  \\\n",
       "id                                                                                                      \n",
       "Weatherall,_Webster_and_Bently_(2009)_3             [Survey Research (qualitative; e.g. consumer p...   \n",
       "Huygen,_Helberger,_Poort,_Rutten_and_Van_Eijk_(...  [Quantitative Collection Methods, Survey Resea...   \n",
       "Sung_(2007)                                                                                       NaN   \n",
       "\n",
       "                                                                                     analysis_methods  \\\n",
       "id                                                                                                      \n",
       "Weatherall,_Webster_and_Bently_(2009)_3                    [Textual Content Analysis, Legal Analysis]   \n",
       "Huygen,_Helberger,_Poort,_Rutten_and_Van_Eijk_(...  [Quantitative Analysis Methods, Descriptive st...   \n",
       "Sung_(2007)                                                                                       NaN   \n",
       "\n",
       "                                                                                              country  \\\n",
       "id                                                                                                      \n",
       "Weatherall,_Webster_and_Bently_(2009)_3             [United Kingdom, United States of America, Aus...   \n",
       "Huygen,_Helberger,_Poort,_Rutten_and_Van_Eijk_(...                                      [Netherlands]   \n",
       "Sung_(2007)                                                                                       NaN   \n",
       "\n",
       "                                                   citation_count  \\\n",
       "id                                                                  \n",
       "Weatherall,_Webster_and_Bently_(2009)_3                       1.0   \n",
       "Huygen,_Helberger,_Poort,_Rutten_and_Van_Eijk_(...            1.0   \n",
       "Sung_(2007)                                                   NaN   \n",
       "\n",
       "                                                                                               issues  \\\n",
       "id                                                                                                      \n",
       "Weatherall,_Webster_and_Bently_(2009)_3                               [Understanding consumption/use]   \n",
       "Huygen,_Helberger,_Poort,_Rutten_and_Van_Eijk_(...  [Effects of protection on industry structure, ...   \n",
       "Sung_(2007)                                                                                       NaN   \n",
       "\n",
       "                                                                                        policies  \\\n",
       "id                                                                                                 \n",
       "Weatherall,_Webster_and_Bently_(2009)_3                                            [Enforcement]   \n",
       "Huygen,_Helberger,_Poort,_Rutten_and_Van_Eijk_(...  [Licensing and Business models, Enforcement]   \n",
       "Sung_(2007)                                                                                  NaN   \n",
       "\n",
       "                                                                                          disciplines  \\\n",
       "id                                                                                                      \n",
       "Weatherall,_Webster_and_Bently_(2009)_3             [General Economics, Law and Economics, Illegal...   \n",
       "Huygen,_Helberger,_Poort,_Rutten_and_Van_Eijk_(...  [Microeconomic Behavior: Underlying Principles...   \n",
       "Sung_(2007)                                                                                       NaN   \n",
       "\n",
       "                                                                                            wordcount  \\\n",
       "id                                                                                                      \n",
       "Weatherall,_Webster_and_Bently_(2009)_3             {'copyright': 1, 'use': 2, 'various': 1, 'pate...   \n",
       "Huygen,_Helberger,_Poort,_Rutten_and_Van_Eijk_(...  {'this_study': 1, 'as_well': 1, 'effects': 1, ...   \n",
       "Sung_(2007)                                                                                      None   \n",
       "\n",
       "                                                                       entities  \\\n",
       "id                                                                                \n",
       "Weatherall,_Webster_and_Bently_(2009)_3                                    None   \n",
       "Huygen,_Helberger,_Poort,_Rutten_and_Van_Eijk_(...  [Netherlands, File_sharing]   \n",
       "Sung_(2007)                                                                  []   \n",
       "\n",
       "                                                                             entity_count  \n",
       "id                                                                                         \n",
       "Weatherall,_Webster_and_Bently_(2009)_3                                              None  \n",
       "Huygen,_Helberger,_Poort,_Rutten_and_Van_Eijk_(...  {'File_sharing': 1, 'Netherlands': 1}  \n",
       "Sung_(2007)                                                                            {}  \n",
       "\n",
       "[3 rows x 25 columns]"
      ]
     },
     "execution_count": 28,
     "metadata": {},
     "output_type": "execute_result"
    }
   ],
   "source": [
    "studies.sample(3)"
   ]
  },
  {
   "cell_type": "markdown",
   "metadata": {},
   "source": [
    "### Export Dataset to JSON in Exhibit Format\n",
    "\n",
    "Here we export our dataset in the Collection format needed for Simile Exhibit."
   ]
  },
  {
   "cell_type": "code",
   "execution_count": 29,
   "metadata": {
    "collapsed": false
   },
   "outputs": [],
   "source": [
    "json_data = json.loads(studies.to_json(orient='records'))\n",
    "#json_data.extend(kind_data)\n",
    "#json_data.extend(industry_data)\n",
    "article_data = {\n",
    "    'items': json_data,\n",
    "               \n",
    "    'types': {\n",
    "        'Study': {'plural': 'Studies'}\n",
    "    },\n",
    "               \n",
    "    'properties': {\n",
    "        'year': 'number',\n",
    "        'citation_count': 'number'\n",
    "    }\n",
    "} \n",
    "\n",
    "with open('/home/egraells/resources/CopyrightEvidence/visual_exploration/datasets/copyright-evidence.json', 'w') as f:\n",
    "    json.dump(article_data, f)"
   ]
  },
  {
   "cell_type": "code",
   "execution_count": null,
   "metadata": {
    "collapsed": true
   },
   "outputs": [],
   "source": []
  }
 ],
 "metadata": {
  "anaconda-cloud": {},
  "kernelspec": {
   "display_name": "Python 3",
   "language": "python",
   "name": "python3"
  },
  "language_info": {
   "codemirror_mode": {
    "name": "ipython",
    "version": 3
   },
   "file_extension": ".py",
   "mimetype": "text/x-python",
   "name": "python",
   "nbconvert_exporter": "python",
   "pygments_lexer": "ipython3",
   "version": "3.5.1+"
  }
 },
 "nbformat": 4,
 "nbformat_minor": 0
}
